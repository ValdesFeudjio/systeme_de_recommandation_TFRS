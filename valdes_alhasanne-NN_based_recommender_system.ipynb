{
 "cells": [
  {
   "cell_type": "markdown",
   "metadata": {
    "colab_type": "text",
    "id": "view-in-github"
   },
   "source": [
    "<a href=\"https://colab.research.google.com/github/dfrey/MyCode/blob/master/NN_based_recommender_system.ipynb\" target=\"_parent\"><img src=\"https://colab.research.google.com/assets/colab-badge.svg\" alt=\"Open In Colab\"/></a>"
   ]
  },
  {
   "cell_type": "markdown",
   "metadata": {
    "id": "sT8AyHRMNh41"
   },
   "source": [
    "# Basic recommender\n"
   ]
  },
  {
   "cell_type": "markdown",
   "metadata": {
    "id": "8f-reQ11gbLB"
   },
   "source": [
    "In this tutorial, we build a simple matrix factorization model using the [MovieLens 100K dataset](https://grouplens.org/datasets/movielens/100k/) with TFRS. We can use this model to recommend movies for a given user."
   ]
  },
  {
   "cell_type": "markdown",
   "metadata": {
    "id": "qA00wBE2Ntdm"
   },
   "source": [
    "### Import TFRS\n",
    "\n",
    "First, install and import TFRS:"
   ]
  },
  {
   "cell_type": "code",
   "execution_count": 3,
   "metadata": {
    "id": "6yzAaM85Z12D"
   },
   "outputs": [],
   "source": [
    "!pip install -q tensorflow-recommenders\n",
    "!pip install -q --upgrade tensorflow-datasets\n",
    "!pip install -q jinja2"
   ]
  },
  {
   "cell_type": "code",
   "execution_count": 4,
   "metadata": {},
   "outputs": [
    {
     "name": "stdout",
     "output_type": "stream",
     "text": [
      "Note: you may need to restart the kernel to use updated packages.\n",
      "Requirement already satisfied: tensorflow_recommenders in c:\\users\\lenovo pc\\appdata\\local\\programs\\python\\python310\\lib\\site-packages (0.7.3)\n",
      "Requirement already satisfied: absl-py>=0.1.6 in c:\\users\\lenovo pc\\appdata\\local\\programs\\python\\python310\\lib\\site-packages (from tensorflow_recommenders) (2.1.0)\n",
      "Requirement already satisfied: tensorflow>=2.9.0 in c:\\users\\lenovo pc\\appdata\\local\\programs\\python\\python310\\lib\\site-packages (from tensorflow_recommenders) (2.18.0)\n",
      "Requirement already satisfied: tensorflow-intel==2.18.0 in c:\\users\\lenovo pc\\appdata\\local\\programs\\python\\python310\\lib\\site-packages (from tensorflow>=2.9.0->tensorflow_recommenders) (2.18.0)\n",
      "Requirement already satisfied: astunparse>=1.6.0 in c:\\users\\lenovo pc\\appdata\\local\\programs\\python\\python310\\lib\\site-packages (from tensorflow-intel==2.18.0->tensorflow>=2.9.0->tensorflow_recommenders) (1.6.3)\n",
      "Requirement already satisfied: flatbuffers>=24.3.25 in c:\\users\\lenovo pc\\appdata\\local\\programs\\python\\python310\\lib\\site-packages (from tensorflow-intel==2.18.0->tensorflow>=2.9.0->tensorflow_recommenders) (24.12.23)\n",
      "Requirement already satisfied: gast!=0.5.0,!=0.5.1,!=0.5.2,>=0.2.1 in c:\\users\\lenovo pc\\appdata\\local\\programs\\python\\python310\\lib\\site-packages (from tensorflow-intel==2.18.0->tensorflow>=2.9.0->tensorflow_recommenders) (0.6.0)\n",
      "Requirement already satisfied: google-pasta>=0.1.1 in c:\\users\\lenovo pc\\appdata\\local\\programs\\python\\python310\\lib\\site-packages (from tensorflow-intel==2.18.0->tensorflow>=2.9.0->tensorflow_recommenders) (0.2.0)\n",
      "Requirement already satisfied: libclang>=13.0.0 in c:\\users\\lenovo pc\\appdata\\local\\programs\\python\\python310\\lib\\site-packages (from tensorflow-intel==2.18.0->tensorflow>=2.9.0->tensorflow_recommenders) (18.1.1)\n",
      "Requirement already satisfied: opt-einsum>=2.3.2 in c:\\users\\lenovo pc\\appdata\\local\\programs\\python\\python310\\lib\\site-packages (from tensorflow-intel==2.18.0->tensorflow>=2.9.0->tensorflow_recommenders) (3.4.0)\n",
      "Requirement already satisfied: packaging in c:\\users\\lenovo pc\\appdata\\roaming\\python\\python310\\site-packages (from tensorflow-intel==2.18.0->tensorflow>=2.9.0->tensorflow_recommenders) (24.2)\n",
      "Requirement already satisfied: protobuf!=4.21.0,!=4.21.1,!=4.21.2,!=4.21.3,!=4.21.4,!=4.21.5,<6.0.0dev,>=3.20.3 in c:\\users\\lenovo pc\\appdata\\local\\programs\\python\\python310\\lib\\site-packages (from tensorflow-intel==2.18.0->tensorflow>=2.9.0->tensorflow_recommenders) (3.20.3)\n",
      "Requirement already satisfied: requests<3,>=2.21.0 in c:\\users\\lenovo pc\\appdata\\local\\programs\\python\\python310\\lib\\site-packages (from tensorflow-intel==2.18.0->tensorflow>=2.9.0->tensorflow_recommenders) (2.32.3)\n",
      "Requirement already satisfied: setuptools in c:\\users\\lenovo pc\\appdata\\local\\programs\\python\\python310\\lib\\site-packages (from tensorflow-intel==2.18.0->tensorflow>=2.9.0->tensorflow_recommenders) (57.4.0)\n",
      "Requirement already satisfied: six>=1.12.0 in c:\\users\\lenovo pc\\appdata\\roaming\\python\\python310\\site-packages (from tensorflow-intel==2.18.0->tensorflow>=2.9.0->tensorflow_recommenders) (1.17.0)\n",
      "Requirement already satisfied: termcolor>=1.1.0 in c:\\users\\lenovo pc\\appdata\\local\\programs\\python\\python310\\lib\\site-packages (from tensorflow-intel==2.18.0->tensorflow>=2.9.0->tensorflow_recommenders) (2.5.0)\n",
      "Requirement already satisfied: typing-extensions>=3.6.6 in c:\\users\\lenovo pc\\appdata\\roaming\\python\\python310\\site-packages (from tensorflow-intel==2.18.0->tensorflow>=2.9.0->tensorflow_recommenders) (4.12.2)\n",
      "Requirement already satisfied: wrapt>=1.11.0 in c:\\users\\lenovo pc\\appdata\\local\\programs\\python\\python310\\lib\\site-packages (from tensorflow-intel==2.18.0->tensorflow>=2.9.0->tensorflow_recommenders) (1.17.0)\n",
      "Requirement already satisfied: grpcio<2.0,>=1.24.3 in c:\\users\\lenovo pc\\appdata\\local\\programs\\python\\python310\\lib\\site-packages (from tensorflow-intel==2.18.0->tensorflow>=2.9.0->tensorflow_recommenders) (1.69.0)\n",
      "Requirement already satisfied: tensorboard<2.19,>=2.18 in c:\\users\\lenovo pc\\appdata\\local\\programs\\python\\python310\\lib\\site-packages (from tensorflow-intel==2.18.0->tensorflow>=2.9.0->tensorflow_recommenders) (2.18.0)\n",
      "Requirement already satisfied: keras>=3.5.0 in c:\\users\\lenovo pc\\appdata\\local\\programs\\python\\python310\\lib\\site-packages (from tensorflow-intel==2.18.0->tensorflow>=2.9.0->tensorflow_recommenders) (3.7.0)\n",
      "Requirement already satisfied: numpy<2.1.0,>=1.26.0 in c:\\users\\lenovo pc\\appdata\\local\\programs\\python\\python310\\lib\\site-packages (from tensorflow-intel==2.18.0->tensorflow>=2.9.0->tensorflow_recommenders) (2.0.2)\n",
      "Requirement already satisfied: h5py>=3.11.0 in c:\\users\\lenovo pc\\appdata\\local\\programs\\python\\python310\\lib\\site-packages (from tensorflow-intel==2.18.0->tensorflow>=2.9.0->tensorflow_recommenders) (3.12.1)\n",
      "Requirement already satisfied: ml-dtypes<0.5.0,>=0.4.0 in c:\\users\\lenovo pc\\appdata\\local\\programs\\python\\python310\\lib\\site-packages (from tensorflow-intel==2.18.0->tensorflow>=2.9.0->tensorflow_recommenders) (0.4.1)\n",
      "Requirement already satisfied: tensorflow-io-gcs-filesystem>=0.23.1 in c:\\users\\lenovo pc\\appdata\\local\\programs\\python\\python310\\lib\\site-packages (from tensorflow-intel==2.18.0->tensorflow>=2.9.0->tensorflow_recommenders) (0.31.0)\n",
      "Requirement already satisfied: wheel<1.0,>=0.23.0 in c:\\users\\lenovo pc\\appdata\\local\\programs\\python\\python310\\lib\\site-packages (from astunparse>=1.6.0->tensorflow-intel==2.18.0->tensorflow>=2.9.0->tensorflow_recommenders) (0.45.1)\n",
      "Requirement already satisfied: rich in c:\\users\\lenovo pc\\appdata\\local\\programs\\python\\python310\\lib\\site-packages (from keras>=3.5.0->tensorflow-intel==2.18.0->tensorflow>=2.9.0->tensorflow_recommenders) (13.9.4)\n",
      "Requirement already satisfied: namex in c:\\users\\lenovo pc\\appdata\\local\\programs\\python\\python310\\lib\\site-packages (from keras>=3.5.0->tensorflow-intel==2.18.0->tensorflow>=2.9.0->tensorflow_recommenders) (0.0.8)\n",
      "Requirement already satisfied: optree in c:\\users\\lenovo pc\\appdata\\local\\programs\\python\\python310\\lib\\site-packages (from keras>=3.5.0->tensorflow-intel==2.18.0->tensorflow>=2.9.0->tensorflow_recommenders) (0.13.1)\n",
      "Requirement already satisfied: charset-normalizer<4,>=2 in c:\\users\\lenovo pc\\appdata\\local\\programs\\python\\python310\\lib\\site-packages (from requests<3,>=2.21.0->tensorflow-intel==2.18.0->tensorflow>=2.9.0->tensorflow_recommenders) (3.4.1)\n",
      "Requirement already satisfied: idna<4,>=2.5 in c:\\users\\lenovo pc\\appdata\\local\\programs\\python\\python310\\lib\\site-packages (from requests<3,>=2.21.0->tensorflow-intel==2.18.0->tensorflow>=2.9.0->tensorflow_recommenders) (3.10)\n",
      "Requirement already satisfied: urllib3<3,>=1.21.1 in c:\\users\\lenovo pc\\appdata\\local\\programs\\python\\python310\\lib\\site-packages (from requests<3,>=2.21.0->tensorflow-intel==2.18.0->tensorflow>=2.9.0->tensorflow_recommenders) (2.3.0)\n",
      "Requirement already satisfied: certifi>=2017.4.17 in c:\\users\\lenovo pc\\appdata\\local\\programs\\python\\python310\\lib\\site-packages (from requests<3,>=2.21.0->tensorflow-intel==2.18.0->tensorflow>=2.9.0->tensorflow_recommenders) (2024.12.14)\n",
      "Requirement already satisfied: markdown>=2.6.8 in c:\\users\\lenovo pc\\appdata\\local\\programs\\python\\python310\\lib\\site-packages (from tensorboard<2.19,>=2.18->tensorflow-intel==2.18.0->tensorflow>=2.9.0->tensorflow_recommenders) (3.7)\n",
      "Requirement already satisfied: tensorboard-data-server<0.8.0,>=0.7.0 in c:\\users\\lenovo pc\\appdata\\local\\programs\\python\\python310\\lib\\site-packages (from tensorboard<2.19,>=2.18->tensorflow-intel==2.18.0->tensorflow>=2.9.0->tensorflow_recommenders) (0.7.2)\n",
      "Requirement already satisfied: werkzeug>=1.0.1 in c:\\users\\lenovo pc\\appdata\\local\\programs\\python\\python310\\lib\\site-packages (from tensorboard<2.19,>=2.18->tensorflow-intel==2.18.0->tensorflow>=2.9.0->tensorflow_recommenders) (3.1.3)\n",
      "Requirement already satisfied: MarkupSafe>=2.1.1 in c:\\users\\lenovo pc\\appdata\\local\\programs\\python\\python310\\lib\\site-packages (from werkzeug>=1.0.1->tensorboard<2.19,>=2.18->tensorflow-intel==2.18.0->tensorflow>=2.9.0->tensorflow_recommenders) (3.0.2)\n",
      "Requirement already satisfied: markdown-it-py>=2.2.0 in c:\\users\\lenovo pc\\appdata\\local\\programs\\python\\python310\\lib\\site-packages (from rich->keras>=3.5.0->tensorflow-intel==2.18.0->tensorflow>=2.9.0->tensorflow_recommenders) (3.0.0)\n",
      "Requirement already satisfied: pygments<3.0.0,>=2.13.0 in c:\\users\\lenovo pc\\appdata\\roaming\\python\\python310\\site-packages (from rich->keras>=3.5.0->tensorflow-intel==2.18.0->tensorflow>=2.9.0->tensorflow_recommenders) (2.19.0)\n",
      "Requirement already satisfied: mdurl~=0.1 in c:\\users\\lenovo pc\\appdata\\local\\programs\\python\\python310\\lib\\site-packages (from markdown-it-py>=2.2.0->rich->keras>=3.5.0->tensorflow-intel==2.18.0->tensorflow>=2.9.0->tensorflow_recommenders) (0.1.2)\n"
     ]
    },
    {
     "name": "stderr",
     "output_type": "stream",
     "text": [
      "\n",
      "[notice] A new release of pip is available: 24.3.1 -> 25.0.1\n",
      "[notice] To update, run: python.exe -m pip install --upgrade pip\n"
     ]
    }
   ],
   "source": [
    "pip install tensorflow_recommenders"
   ]
  },
  {
   "cell_type": "code",
   "execution_count": 5,
   "metadata": {},
   "outputs": [
    {
     "name": "stdout",
     "output_type": "stream",
     "text": [
      "Requirement already satisfied: tensorflow-datasets in c:\\users\\lenovo pc\\appdata\\local\\programs\\python\\python310\\lib\\site-packages (4.9.8)\n",
      "Requirement already satisfied: absl-py in c:\\users\\lenovo pc\\appdata\\local\\programs\\python\\python310\\lib\\site-packages (from tensorflow-datasets) (2.1.0)\n",
      "Requirement already satisfied: dm-tree in c:\\users\\lenovo pc\\appdata\\local\\programs\\python\\python310\\lib\\site-packages (from tensorflow-datasets) (0.1.9)\n",
      "Requirement already satisfied: etils>=1.6.0 in c:\\users\\lenovo pc\\appdata\\local\\programs\\python\\python310\\lib\\site-packages (from etils[edc,enp,epath,epy,etree]>=1.6.0; python_version < \"3.11\"->tensorflow-datasets) (1.12.2)\n",
      "Requirement already satisfied: immutabledict in c:\\users\\lenovo pc\\appdata\\local\\programs\\python\\python310\\lib\\site-packages (from tensorflow-datasets) (4.2.1)\n",
      "Requirement already satisfied: numpy in c:\\users\\lenovo pc\\appdata\\local\\programs\\python\\python310\\lib\\site-packages (from tensorflow-datasets) (2.0.2)\n",
      "Requirement already satisfied: promise in c:\\users\\lenovo pc\\appdata\\local\\programs\\python\\python310\\lib\\site-packages (from tensorflow-datasets) (2.3)\n",
      "Requirement already satisfied: protobuf>=3.20 in c:\\users\\lenovo pc\\appdata\\local\\programs\\python\\python310\\lib\\site-packages (from tensorflow-datasets) (3.20.3)\n",
      "Requirement already satisfied: psutil in c:\\users\\lenovo pc\\appdata\\roaming\\python\\python310\\site-packages (from tensorflow-datasets) (6.1.1)\n",
      "Requirement already satisfied: pyarrow in c:\\users\\lenovo pc\\appdata\\local\\programs\\python\\python310\\lib\\site-packages (from tensorflow-datasets) (19.0.1)\n",
      "Requirement already satisfied: requests>=2.19.0 in c:\\users\\lenovo pc\\appdata\\local\\programs\\python\\python310\\lib\\site-packages (from tensorflow-datasets) (2.32.3)\n",
      "Requirement already satisfied: simple_parsing in c:\\users\\lenovo pc\\appdata\\local\\programs\\python\\python310\\lib\\site-packages (from tensorflow-datasets) (0.1.7)\n",
      "Requirement already satisfied: tensorflow-metadata in c:\\users\\lenovo pc\\appdata\\local\\programs\\python\\python310\\lib\\site-packages (from tensorflow-datasets) (1.16.1)\n",
      "Requirement already satisfied: termcolor in c:\\users\\lenovo pc\\appdata\\local\\programs\\python\\python310\\lib\\site-packages (from tensorflow-datasets) (2.5.0)\n",
      "Requirement already satisfied: toml in c:\\users\\lenovo pc\\appdata\\local\\programs\\python\\python310\\lib\\site-packages (from tensorflow-datasets) (0.10.2)\n",
      "Requirement already satisfied: tqdm in c:\\users\\lenovo pc\\appdata\\local\\programs\\python\\python310\\lib\\site-packages (from tensorflow-datasets) (4.67.1)\n",
      "Requirement already satisfied: wrapt in c:\\users\\lenovo pc\\appdata\\local\\programs\\python\\python310\\lib\\site-packages (from tensorflow-datasets) (1.17.0)\n",
      "Requirement already satisfied: fsspec in c:\\users\\lenovo pc\\appdata\\local\\programs\\python\\python310\\lib\\site-packages (from etils[edc,enp,epath,epy,etree]>=1.6.0; python_version < \"3.11\"->tensorflow-datasets) (2025.3.0)\n",
      "Requirement already satisfied: importlib_resources in c:\\users\\lenovo pc\\appdata\\local\\programs\\python\\python310\\lib\\site-packages (from etils[edc,enp,epath,epy,etree]>=1.6.0; python_version < \"3.11\"->tensorflow-datasets) (6.5.2)\n",
      "Requirement already satisfied: typing_extensions in c:\\users\\lenovo pc\\appdata\\roaming\\python\\python310\\site-packages (from etils[edc,enp,epath,epy,etree]>=1.6.0; python_version < \"3.11\"->tensorflow-datasets) (4.12.2)\n",
      "Requirement already satisfied: zipp in c:\\users\\lenovo pc\\appdata\\local\\programs\\python\\python310\\lib\\site-packages (from etils[edc,enp,epath,epy,etree]>=1.6.0; python_version < \"3.11\"->tensorflow-datasets) (3.21.0)\n",
      "Requirement already satisfied: einops in c:\\users\\lenovo pc\\appdata\\local\\programs\\python\\python310\\lib\\site-packages (from etils[edc,enp,epath,epy,etree]>=1.6.0; python_version < \"3.11\"->tensorflow-datasets) (0.8.1)\n",
      "Requirement already satisfied: charset-normalizer<4,>=2 in c:\\users\\lenovo pc\\appdata\\local\\programs\\python\\python310\\lib\\site-packages (from requests>=2.19.0->tensorflow-datasets) (3.4.1)\n",
      "Requirement already satisfied: idna<4,>=2.5 in c:\\users\\lenovo pc\\appdata\\local\\programs\\python\\python310\\lib\\site-packages (from requests>=2.19.0->tensorflow-datasets) (3.10)\n",
      "Requirement already satisfied: urllib3<3,>=1.21.1 in c:\\users\\lenovo pc\\appdata\\local\\programs\\python\\python310\\lib\\site-packages (from requests>=2.19.0->tensorflow-datasets) (2.3.0)\n",
      "Requirement already satisfied: certifi>=2017.4.17 in c:\\users\\lenovo pc\\appdata\\local\\programs\\python\\python310\\lib\\site-packages (from requests>=2.19.0->tensorflow-datasets) (2024.12.14)\n",
      "Requirement already satisfied: attrs>=18.2.0 in c:\\users\\lenovo pc\\appdata\\local\\programs\\python\\python310\\lib\\site-packages (from dm-tree->tensorflow-datasets) (25.3.0)\n",
      "Requirement already satisfied: six in c:\\users\\lenovo pc\\appdata\\roaming\\python\\python310\\site-packages (from promise->tensorflow-datasets) (1.17.0)\n",
      "Requirement already satisfied: docstring-parser<1.0,>=0.15 in c:\\users\\lenovo pc\\appdata\\local\\programs\\python\\python310\\lib\\site-packages (from simple_parsing->tensorflow-datasets) (0.16)\n",
      "Requirement already satisfied: colorama in c:\\users\\lenovo pc\\appdata\\roaming\\python\\python310\\site-packages (from tqdm->tensorflow-datasets) (0.4.6)\n",
      "Note: you may need to restart the kernel to use updated packages.\n"
     ]
    },
    {
     "name": "stderr",
     "output_type": "stream",
     "text": [
      "\n",
      "[notice] A new release of pip is available: 24.3.1 -> 25.0.1\n",
      "[notice] To update, run: python.exe -m pip install --upgrade pip\n"
     ]
    }
   ],
   "source": [
    "pip install tensorflow-datasets\n"
   ]
  },
  {
   "cell_type": "code",
   "execution_count": 6,
   "metadata": {
    "id": "n3oYt3R6Nr9l"
   },
   "outputs": [],
   "source": [
    "from typing import Dict, Text\n",
    "\n",
    "import os\n",
    "import pprint\n",
    "import tempfile\n",
    "\n",
    "import numpy as np\n",
    "import tensorflow as tf\n",
    "import tensorflow_datasets as tfds\n",
    "import tensorflow_recommenders as tfrs\n",
    "\n",
    "%matplotlib inline\n",
    "import matplotlib.pyplot as plt\n",
    "plt.style.use('seaborn-v0_8-whitegrid')"
   ]
  },
  {
   "cell_type": "markdown",
   "metadata": {
    "id": "zCxQ1CZcO2wh"
   },
   "source": [
    "### Read the data"
   ]
  },
  {
   "cell_type": "code",
   "execution_count": 2,
   "metadata": {
    "id": "DvC9VVXOHlXn"
   },
   "outputs": [
    {
     "name": "stderr",
     "output_type": "stream",
     "text": [
      "WARNING:absl:Variant folder C:\\Users\\LENOVO PC\\tensorflow_datasets\\movielens\\100k-ratings\\0.1.1 has no dataset_info.json\n"
     ]
    },
    {
     "name": "stdout",
     "output_type": "stream",
     "text": [
      "\u001b[1mDownloading and preparing dataset Unknown size (download: Unknown size, generated: Unknown size, total: Unknown size) to C:\\Users\\LENOVO PC\\tensorflow_datasets\\movielens\\100k-ratings\\0.1.1...\u001b[0m\n"
     ]
    },
    {
     "name": "stderr",
     "output_type": "stream",
     "text": [
      "c:\\Users\\LENOVO PC\\AppData\\Local\\Programs\\Python\\Python310\\lib\\site-packages\\tqdm\\auto.py:21: TqdmWarning: IProgress not found. Please update jupyter and ipywidgets. See https://ipywidgets.readthedocs.io/en/stable/user_install.html\n",
      "  from .autonotebook import tqdm as notebook_tqdm\n",
      "Dl Completed...: 0 url [00:00, ? url/s]\n",
      "Dl Completed...:   0%|          | 0/1 [00:00<?, ? url/s]\n",
      "Dl Completed...:   0%|          | 0/1 [00:00<?, ? url/s]\n",
      "Dl Completed...:   0%|          | 0/1 [00:01<?, ? url/s]\n",
      "Dl Completed...:   0%|          | 0/1 [00:01<?, ? url/s]\n",
      "Dl Completed...:   0%|          | 0/1 [00:01<?, ? url/s]\n",
      "Dl Completed...:   0%|          | 0/1 [00:01<?, ? url/s]\n",
      "Dl Completed...: 100%|██████████| 1/1 [00:01<00:00,  1.69s/ url]\n",
      "Dl Completed...: 100%|██████████| 1/1 [00:01<00:00,  1.69s/ url]\n",
      "Dl Completed...: 100%|██████████| 1/1 [00:01<00:00,  1.69s/ url]\n",
      "Dl Completed...: 100%|██████████| 1/1 [00:01<00:00,  1.69s/ url]\n",
      "Dl Completed...: 100%|██████████| 1/1 [00:01<00:00,  1.69s/ url]\n",
      "Dl Completed...: 100%|██████████| 1/1 [00:01<00:00,  1.69s/ url]\n",
      "Dl Completed...: 100%|██████████| 1/1 [00:01<00:00,  1.69s/ url]\n",
      "Dl Completed...: 100%|██████████| 1/1 [00:01<00:00,  1.69s/ url]\n",
      "Dl Completed...: 100%|██████████| 1/1 [00:01<00:00,  1.69s/ url]\n",
      "Dl Completed...: 100%|██████████| 1/1 [00:01<00:00,  1.69s/ url]\n",
      "Dl Completed...: 100%|██████████| 1/1 [00:01<00:00,  1.69s/ url]\n",
      "Dl Completed...: 100%|██████████| 1/1 [00:01<00:00,  1.69s/ url]\n",
      "Dl Completed...: 100%|██████████| 1/1 [00:01<00:00,  1.69s/ url]\n",
      "Dl Completed...: 100%|██████████| 1/1 [00:01<00:00,  1.69s/ url]\n",
      "Dl Completed...: 100%|██████████| 1/1 [00:01<00:00,  1.69s/ url]\n",
      "Dl Completed...: 100%|██████████| 1/1 [00:01<00:00,  1.69s/ url]\n",
      "Dl Completed...: 100%|██████████| 1/1 [00:01<00:00,  1.69s/ url]\n",
      "Dl Completed...: 100%|██████████| 1/1 [00:01<00:00,  1.69s/ url]\n",
      "Dl Completed...: 100%|██████████| 1/1 [00:01<00:00,  1.69s/ url]\n",
      "Dl Completed...: 100%|██████████| 1/1 [00:01<00:00,  1.69s/ url]\n",
      "Dl Completed...: 100%|██████████| 1/1 [00:01<00:00,  1.69s/ url]\n",
      "Dl Completed...: 100%|██████████| 1/1 [00:02<00:00,  1.69s/ url]\n",
      "Dl Completed...: 100%|██████████| 1/1 [00:02<00:00,  1.69s/ url]\n",
      "Dl Completed...: 100%|██████████| 1/1 [00:02<00:00,  1.69s/ url]\n",
      "\u001b[A\n",
      "Dl Completed...: 100%|██████████| 1/1 [00:02<00:00,  1.69s/ url]\n",
      "Dl Completed...: 100%|██████████| 1/1 [00:02<00:00,  1.69s/ url]\n",
      "Dl Completed...: 100%|██████████| 1/1 [00:02<00:00,  1.69s/ url]\n",
      "Dl Completed...: 100%|██████████| 1/1 [00:02<00:00,  1.69s/ url]\n",
      "Dl Completed...: 100%|██████████| 1/1 [00:02<00:00,  1.69s/ url]\n",
      "Dl Completed...: 100%|██████████| 1/1 [00:02<00:00,  1.69s/ url]\n",
      "Dl Completed...: 100%|██████████| 1/1 [00:02<00:00,  1.69s/ url]\n",
      "Dl Completed...: 100%|██████████| 1/1 [00:02<00:00,  1.69s/ url]\n",
      "Dl Completed...: 100%|██████████| 1/1 [00:02<00:00,  1.69s/ url]\n",
      "Dl Completed...: 100%|██████████| 1/1 [00:02<00:00,  1.69s/ url]\n",
      "Dl Completed...: 100%|██████████| 1/1 [00:02<00:00,  1.69s/ url]\n",
      "Dl Completed...: 100%|██████████| 1/1 [00:02<00:00,  1.69s/ url]\n",
      "Dl Completed...: 100%|██████████| 1/1 [00:02<00:00,  1.69s/ url]\n",
      "Dl Completed...: 100%|██████████| 1/1 [00:02<00:00,  1.69s/ url]\n",
      "Dl Completed...: 100%|██████████| 1/1 [00:02<00:00,  1.69s/ url]\n",
      "Dl Completed...: 100%|██████████| 1/1 [00:02<00:00,  1.69s/ url]\n",
      "Dl Completed...: 100%|██████████| 1/1 [00:02<00:00,  1.69s/ url]\n",
      "Dl Completed...: 100%|██████████| 1/1 [00:02<00:00,  1.69s/ url]\n",
      "Dl Completed...: 100%|██████████| 1/1 [00:02<00:00,  1.69s/ url]\n",
      "Dl Completed...: 100%|██████████| 1/1 [00:02<00:00,  1.69s/ url]\n",
      "Dl Completed...: 100%|██████████| 1/1 [00:02<00:00,  1.69s/ url]\n",
      "Dl Completed...: 100%|██████████| 1/1 [00:02<00:00,  1.69s/ url]\n",
      "Dl Completed...: 100%|██████████| 1/1 [00:02<00:00,  1.69s/ url]\n",
      "Extraction completed...: 100%|██████████| 23/23 [00:02<00:00, 10.51 file/s]\n",
      "Dl Size...: 100%|██████████| 4/4 [00:02<00:00,  1.82 MiB/s]\n",
      "Dl Completed...: 100%|██████████| 1/1 [00:02<00:00,  2.20s/ url]\n",
      "                                                                        \r"
     ]
    },
    {
     "name": "stdout",
     "output_type": "stream",
     "text": [
      "\u001b[1mDataset movielens downloaded and prepared to C:\\Users\\LENOVO PC\\tensorflow_datasets\\movielens\\100k-ratings\\0.1.1. Subsequent calls will reuse this data.\u001b[0m\n"
     ]
    }
   ],
   "source": [
    "ratings_full = tfds.load('movielens/100k-ratings', split=\"train\")\n",
    "\n",
    "user_ids = ratings_full.map(lambda x: x[\"user_id\"])\n",
    "unique_user_ids = np.unique(list(tfds.as_numpy(user_ids)))\n",
    "\n",
    "movie_titles = ratings_full.map(lambda x: x[\"movie_title\"])\n",
    "unique_movie_titles = np.unique(list(tfds.as_numpy(movie_titles)))"
   ]
  },
  {
   "cell_type": "markdown",
   "metadata": {
    "id": "PgKXUeSO868N"
   },
   "source": [
    "> ### TODO\n",
    ">\n",
    "> Display the ten first examples to explore the list of available informations\n",
    ">\n",
    "> Usefull: `Dataset.take(count)`, `tfds.as_numpy()`, `tfds.as_dataframe()`"
   ]
  },
  {
   "cell_type": "code",
   "execution_count": 14,
   "metadata": {},
   "outputs": [
    {
     "data": {
      "text/html": [
       "<div>\n",
       "<style scoped>\n",
       "    .dataframe tbody tr th:only-of-type {\n",
       "        vertical-align: middle;\n",
       "    }\n",
       "\n",
       "    .dataframe tbody tr th {\n",
       "        vertical-align: top;\n",
       "    }\n",
       "\n",
       "    .dataframe thead th {\n",
       "        text-align: right;\n",
       "    }\n",
       "</style>\n",
       "<table border=\"1\" class=\"dataframe\">\n",
       "  <thead>\n",
       "    <tr style=\"text-align: right;\">\n",
       "      <th></th>\n",
       "      <th>bucketized_user_age</th>\n",
       "      <th>movie_genres</th>\n",
       "      <th>movie_id</th>\n",
       "      <th>movie_title</th>\n",
       "      <th>raw_user_age</th>\n",
       "      <th>timestamp</th>\n",
       "      <th>user_gender</th>\n",
       "      <th>user_id</th>\n",
       "      <th>user_occupation_label</th>\n",
       "      <th>user_occupation_text</th>\n",
       "      <th>user_rating</th>\n",
       "      <th>user_zip_code</th>\n",
       "    </tr>\n",
       "  </thead>\n",
       "  <tbody>\n",
       "    <tr>\n",
       "      <th>0</th>\n",
       "      <td>45.0</td>\n",
       "      <td>[7]</td>\n",
       "      <td>b'357'</td>\n",
       "      <td>b\"One Flew Over the Cuckoo's Nest (1975)\"</td>\n",
       "      <td>46.0</td>\n",
       "      <td>879024327</td>\n",
       "      <td>True</td>\n",
       "      <td>b'138'</td>\n",
       "      <td>4</td>\n",
       "      <td>b'doctor'</td>\n",
       "      <td>4.0</td>\n",
       "      <td>b'53211'</td>\n",
       "    </tr>\n",
       "    <tr>\n",
       "      <th>1</th>\n",
       "      <td>25.0</td>\n",
       "      <td>[4, 14]</td>\n",
       "      <td>b'709'</td>\n",
       "      <td>b'Strictly Ballroom (1992)'</td>\n",
       "      <td>32.0</td>\n",
       "      <td>875654590</td>\n",
       "      <td>True</td>\n",
       "      <td>b'92'</td>\n",
       "      <td>5</td>\n",
       "      <td>b'entertainment'</td>\n",
       "      <td>2.0</td>\n",
       "      <td>b'80525'</td>\n",
       "    </tr>\n",
       "    <tr>\n",
       "      <th>2</th>\n",
       "      <td>18.0</td>\n",
       "      <td>[4]</td>\n",
       "      <td>b'412'</td>\n",
       "      <td>b'Very Brady Sequel, A (1996)'</td>\n",
       "      <td>24.0</td>\n",
       "      <td>882075110</td>\n",
       "      <td>True</td>\n",
       "      <td>b'301'</td>\n",
       "      <td>17</td>\n",
       "      <td>b'student'</td>\n",
       "      <td>4.0</td>\n",
       "      <td>b'55439'</td>\n",
       "    </tr>\n",
       "    <tr>\n",
       "      <th>3</th>\n",
       "      <td>50.0</td>\n",
       "      <td>[5, 7]</td>\n",
       "      <td>b'56'</td>\n",
       "      <td>b'Pulp Fiction (1994)'</td>\n",
       "      <td>50.0</td>\n",
       "      <td>883326919</td>\n",
       "      <td>True</td>\n",
       "      <td>b'60'</td>\n",
       "      <td>4</td>\n",
       "      <td>b'healthcare'</td>\n",
       "      <td>4.0</td>\n",
       "      <td>b'06472'</td>\n",
       "    </tr>\n",
       "    <tr>\n",
       "      <th>4</th>\n",
       "      <td>50.0</td>\n",
       "      <td>[10, 16]</td>\n",
       "      <td>b'895'</td>\n",
       "      <td>b'Scream 2 (1997)'</td>\n",
       "      <td>55.0</td>\n",
       "      <td>891409199</td>\n",
       "      <td>True</td>\n",
       "      <td>b'197'</td>\n",
       "      <td>18</td>\n",
       "      <td>b'technician'</td>\n",
       "      <td>3.0</td>\n",
       "      <td>b'75094'</td>\n",
       "    </tr>\n",
       "    <tr>\n",
       "      <th>5</th>\n",
       "      <td>18.0</td>\n",
       "      <td>[7, 16]</td>\n",
       "      <td>b'325'</td>\n",
       "      <td>b'Crash (1996)'</td>\n",
       "      <td>19.0</td>\n",
       "      <td>876346551</td>\n",
       "      <td>False</td>\n",
       "      <td>b'601'</td>\n",
       "      <td>1</td>\n",
       "      <td>b'artist'</td>\n",
       "      <td>4.0</td>\n",
       "      <td>b'99687'</td>\n",
       "    </tr>\n",
       "    <tr>\n",
       "      <th>6</th>\n",
       "      <td>18.0</td>\n",
       "      <td>[2, 3, 4, 12]</td>\n",
       "      <td>b'95'</td>\n",
       "      <td>b'Aladdin (1992)'</td>\n",
       "      <td>19.0</td>\n",
       "      <td>882064434</td>\n",
       "      <td>True</td>\n",
       "      <td>b'710'</td>\n",
       "      <td>17</td>\n",
       "      <td>b'student'</td>\n",
       "      <td>3.0</td>\n",
       "      <td>b'92020'</td>\n",
       "    </tr>\n",
       "    <tr>\n",
       "      <th>7</th>\n",
       "      <td>25.0</td>\n",
       "      <td>[0, 5, 14]</td>\n",
       "      <td>b'92'</td>\n",
       "      <td>b'True Romance (1993)'</td>\n",
       "      <td>34.0</td>\n",
       "      <td>875135363</td>\n",
       "      <td>True</td>\n",
       "      <td>b'833'</td>\n",
       "      <td>21</td>\n",
       "      <td>b'writer'</td>\n",
       "      <td>2.0</td>\n",
       "      <td>b'90019'</td>\n",
       "    </tr>\n",
       "    <tr>\n",
       "      <th>8</th>\n",
       "      <td>25.0</td>\n",
       "      <td>[4]</td>\n",
       "      <td>b'425'</td>\n",
       "      <td>b'Bob Roberts (1992)'</td>\n",
       "      <td>27.0</td>\n",
       "      <td>880844102</td>\n",
       "      <td>True</td>\n",
       "      <td>b'916'</td>\n",
       "      <td>18</td>\n",
       "      <td>b'engineer'</td>\n",
       "      <td>5.0</td>\n",
       "      <td>b'N2L5N'</td>\n",
       "    </tr>\n",
       "    <tr>\n",
       "      <th>9</th>\n",
       "      <td>25.0</td>\n",
       "      <td>[0, 1, 15, 18]</td>\n",
       "      <td>b'271'</td>\n",
       "      <td>b'Starship Troopers (1997)'</td>\n",
       "      <td>32.0</td>\n",
       "      <td>884801053</td>\n",
       "      <td>True</td>\n",
       "      <td>b'940'</td>\n",
       "      <td>2</td>\n",
       "      <td>b'administrator'</td>\n",
       "      <td>2.0</td>\n",
       "      <td>b'02215'</td>\n",
       "    </tr>\n",
       "  </tbody>\n",
       "</table>\n",
       "</div>"
      ],
      "text/plain": [
       "   bucketized_user_age    movie_genres movie_id  \\\n",
       "0                 45.0             [7]   b'357'   \n",
       "1                 25.0         [4, 14]   b'709'   \n",
       "2                 18.0             [4]   b'412'   \n",
       "3                 50.0          [5, 7]    b'56'   \n",
       "4                 50.0        [10, 16]   b'895'   \n",
       "5                 18.0         [7, 16]   b'325'   \n",
       "6                 18.0   [2, 3, 4, 12]    b'95'   \n",
       "7                 25.0      [0, 5, 14]    b'92'   \n",
       "8                 25.0             [4]   b'425'   \n",
       "9                 25.0  [0, 1, 15, 18]   b'271'   \n",
       "\n",
       "                                 movie_title  raw_user_age  timestamp  \\\n",
       "0  b\"One Flew Over the Cuckoo's Nest (1975)\"          46.0  879024327   \n",
       "1                b'Strictly Ballroom (1992)'          32.0  875654590   \n",
       "2             b'Very Brady Sequel, A (1996)'          24.0  882075110   \n",
       "3                     b'Pulp Fiction (1994)'          50.0  883326919   \n",
       "4                         b'Scream 2 (1997)'          55.0  891409199   \n",
       "5                            b'Crash (1996)'          19.0  876346551   \n",
       "6                          b'Aladdin (1992)'          19.0  882064434   \n",
       "7                     b'True Romance (1993)'          34.0  875135363   \n",
       "8                      b'Bob Roberts (1992)'          27.0  880844102   \n",
       "9                b'Starship Troopers (1997)'          32.0  884801053   \n",
       "\n",
       "   user_gender user_id  user_occupation_label user_occupation_text  \\\n",
       "0         True  b'138'                      4            b'doctor'   \n",
       "1         True   b'92'                      5     b'entertainment'   \n",
       "2         True  b'301'                     17           b'student'   \n",
       "3         True   b'60'                      4        b'healthcare'   \n",
       "4         True  b'197'                     18        b'technician'   \n",
       "5        False  b'601'                      1            b'artist'   \n",
       "6         True  b'710'                     17           b'student'   \n",
       "7         True  b'833'                     21            b'writer'   \n",
       "8         True  b'916'                     18          b'engineer'   \n",
       "9         True  b'940'                      2     b'administrator'   \n",
       "\n",
       "   user_rating user_zip_code  \n",
       "0          4.0      b'53211'  \n",
       "1          2.0      b'80525'  \n",
       "2          4.0      b'55439'  \n",
       "3          4.0      b'06472'  \n",
       "4          3.0      b'75094'  \n",
       "5          4.0      b'99687'  \n",
       "6          3.0      b'92020'  \n",
       "7          2.0      b'90019'  \n",
       "8          5.0      b'N2L5N'  \n",
       "9          2.0      b'02215'  "
      ]
     },
     "execution_count": 14,
     "metadata": {},
     "output_type": "execute_result"
    }
   ],
   "source": [
    "# Prendre les 10 premiers exemples du dataset\n",
    "ratings_preview = ratings_full.take(10)\n",
    "\n",
    "# Convertir en dataframe\n",
    "df_preview = tfds.as_dataframe(ratings_preview)\n",
    "\n",
    "# Afficher les 10 premiers exemples sous forme de dataframe\n",
    "df_preview.head(10)\n"
   ]
  },
  {
   "cell_type": "code",
   "execution_count": 7,
   "metadata": {
    "id": "DWXpgQVzHpwf"
   },
   "outputs": [
    {
     "name": "stdout",
     "output_type": "stream",
     "text": [
      "943\n",
      "1664\n",
      "0.06372868912635615\n"
     ]
    }
   ],
   "source": [
    "print(unique_user_ids.size)\n",
    "print(unique_movie_titles.size)\n",
    "print(ratings_full.cardinality().numpy()/(unique_user_ids.size*unique_movie_titles.size))\n",
    "# TODO add your code here\n"
   ]
  },
  {
   "cell_type": "markdown",
   "metadata": {
    "id": "dm-Ummuy93Tb"
   },
   "source": [
    "Restrict the dataset to used features."
   ]
  },
  {
   "cell_type": "code",
   "execution_count": 17,
   "metadata": {
    "id": "M-mxBYjdO5m7"
   },
   "outputs": [
    {
     "data": {
      "text/plain": [
       "<CacheDataset element_spec={'movie_title': TensorSpec(shape=(), dtype=tf.string, name=None), 'user_id': TensorSpec(shape=(), dtype=tf.string, name=None), 'user_rating': TensorSpec(shape=(), dtype=tf.float32, name=None), 'timestamp': TensorSpec(shape=(), dtype=tf.int64, name=None)}>"
      ]
     },
     "execution_count": 17,
     "metadata": {},
     "output_type": "execute_result"
    }
   ],
   "source": [
    "# Ratings data.\n",
    "ratings = ratings_full.map(lambda x: {\n",
    "    \"movie_title\": x[\"movie_title\"],\n",
    "    \"user_id\": x[\"user_id\"],\n",
    "    \"user_rating\": x[\"user_rating\"],\n",
    "    \"timestamp\": x[\"timestamp\"],\n",
    "})\n",
    "\n",
    "ratings"
   ]
  },
  {
   "cell_type": "markdown",
   "metadata": {
    "id": "dXCQpH2LMSf0"
   },
   "source": [
    "Split the data into a training set and a testing set."
   ]
  },
  {
   "cell_type": "code",
   "execution_count": 18,
   "metadata": {
    "id": "Oj5OYXLjMSqA"
   },
   "outputs": [],
   "source": [
    "tf.random.set_seed(42)\n",
    "shuffled = ratings.shuffle(100_000, seed=42, reshuffle_each_iteration=False)\n",
    "\n",
    "train = shuffled.take(80_000)\n",
    "test = shuffled.skip(80_000).take(20_000)\n",
    "\n",
    "cached_train = train.shuffle(100_000).batch(2048)\n",
    "cached_test = test.batch(4096).cache()"
   ]
  },
  {
   "cell_type": "markdown",
   "metadata": {
    "id": "Lrch6rVBOB9Q"
   },
   "source": [
    "### Define a model\n",
    "\n",
    "We can define a prediction model by inheriting from `tf.keras.Model` and implementing the `call` method.\n",
    "\n",
    "> ### TODO\n",
    ">\n",
    "> Draw the model (you can draw it on a piece of paper and scan it, or take a picture of it, and include your picture in the zip file you submit. You should name your file either `[lastname1]-[lastname2]-modeldrawing.jpg/pdf/...` or `[firstname]-[lastname]-modeldrawing.jpg/pdf/...` depending on whether you worked in pairs or alone. "
   ]
  },
  {
   "cell_type": "code",
   "execution_count": 10,
   "metadata": {
    "id": "XFalJDcOU4_d"
   },
   "outputs": [],
   "source": [
    "class DotRankingModel(tf.keras.Model):\n",
    "\n",
    "  def __init__(self):\n",
    "    super().__init__()\n",
    "    embedding_dimension = 32\n",
    "\n",
    "    # Compute embeddings for users.\n",
    "    self.user_embeddings = tf.keras.Sequential([\n",
    "      tf.keras.layers.StringLookup(\n",
    "        vocabulary=unique_user_ids, mask_token=None),\n",
    "      tf.keras.layers.Embedding(len(unique_user_ids) + 1, embedding_dimension)\n",
    "    ])\n",
    "\n",
    "    # Compute embeddings for movies.\n",
    "    self.movie_embeddings = tf.keras.Sequential([\n",
    "      tf.keras.layers.StringLookup(\n",
    "        vocabulary=unique_movie_titles, mask_token=None),\n",
    "      tf.keras.layers.Embedding(len(unique_movie_titles) + 1, embedding_dimension)\n",
    "    ])\n",
    "\n",
    "    # Compute predictions.\n",
    "    self.ratings = tf.keras.layers.Dot(axes=(1))\n",
    "\n",
    "  def call(self, features: Dict[str, tf.Tensor]) -> tf.Tensor:\n",
    "    user_embedding = self.user_embeddings(features[\"user_id\"])\n",
    "    movie_embedding = self.movie_embeddings(features[\"movie_title\"])\n",
    "\n",
    "    return self.ratings((user_embedding, movie_embedding))"
   ]
  },
  {
   "cell_type": "code",
   "execution_count": 20,
   "metadata": {
    "id": "9Y6hsvwWc7ZR"
   },
   "outputs": [
    {
     "data": {
      "text/plain": [
       "<tf.Tensor: shape=(2, 1), dtype=float32, numpy=\n",
       "array([[-0.00160515],\n",
       "       [-0.00140406]], dtype=float32)>"
      ]
     },
     "execution_count": 20,
     "metadata": {},
     "output_type": "execute_result"
    }
   ],
   "source": [
    "\n",
    "# Keras2\n",
    "#DotRankingModel()({\"user_id\": [\"42\",\"42\"], \"movie_title\":[\"One Flew Over the Cuckoo's Nest (1975)\", \"Strictly Ballroom (1992)\"]})\n",
    "\n",
    "# version for Keras 3\n",
    "user_ids_input = tf.constant([\"42\", \"42\"])\n",
    "movie_titles_input = tf.constant([\"One Flew Over the Cuckoo's Nest (1975)\", \"Strictly Ballroom (1992)\"])\n",
    "\n",
    "# Pass the tensors in the dict.\n",
    "DotRankingModel()({\"user_id\": user_ids_input, \"movie_title\": movie_titles_input})"
   ]
  },
  {
   "cell_type": "markdown",
   "metadata": {
    "id": "hnm3Monk-HbG"
   },
   "source": [
    "We can define a TFRS model by inheriting from `tfrs.Model` and implementing the `compute_loss` method.\n",
    "\n",
    "> ### TODO\n",
    ">\n",
    "> Explain the role played by this model\n",
    ">\n",
    "La classe `tfrs.Model` est une classe de base pour construire des modèles de recommandation avec TensorFlow Recommenders. Elle facilite la création de systèmes de recommandation en gérant les embeddings des utilisateurs et des éléments, ainsi que le calcul de la perte.\n",
    "\n",
    "La méthode `compute_loss` calcule la différence entre les prédictions du modèle et les valeurs réelles (par exemple, les évaluations), ce qui permet de mesurer l'erreur du modèle. Cette erreur est utilisée pour ajuster les paramètres du modèle (embeddings) pendant l'entraînement, en minimisant la perte."
   ]
  },
  {
   "cell_type": "code",
   "execution_count": 34,
   "metadata": {
    "id": "NXOntFjKdjaW"
   },
   "outputs": [],
   "source": [
    "class MovieLensModel(tfrs.models.Model):\n",
    "\n",
    "  def __init__(self, rating_model: tf.keras.Model):\n",
    "    super().__init__()\n",
    "    self.ranking_model = rating_model\n",
    "    self.task: tf.keras.layers.Layer = tfrs.tasks.Ranking(\n",
    "      loss = tf.keras.losses.MeanSquaredError(),\n",
    "      metrics=[tf.keras.metrics.RootMeanSquaredError()]\n",
    "    )\n",
    "\n",
    "  def call(self, features: Dict[str, tf.Tensor]) -> tf.Tensor:\n",
    "    return self.ranking_model(features)\n",
    "\n",
    "  def compute_loss(self, features: Dict[Text, tf.Tensor], training=False) -> tf.Tensor:\n",
    "    labels = features.get(\"user_rating\")\n",
    "\n",
    "    rating_predictions = self(features)\n",
    "\n",
    "    # The task computes the loss and the metrics.\n",
    "    return self.task(labels=labels, predictions=rating_predictions)"
   ]
  },
  {
   "cell_type": "markdown",
   "metadata": {
    "id": "6Zca6clv-dWC"
   },
   "source": [
    "## Fit and test the model"
   ]
  },
  {
   "cell_type": "code",
   "execution_count": 35,
   "metadata": {
    "id": "Y4jBtrYAU8LE"
   },
   "outputs": [
    {
     "name": "stdout",
     "output_type": "stream",
     "text": [
      "Epoch 1/10\n"
     ]
    },
    {
     "name": "stderr",
     "output_type": "stream",
     "text": [
      "c:\\Users\\LENOVO PC\\AppData\\Local\\Programs\\Python\\Python310\\lib\\site-packages\\keras\\src\\layers\\layer.py:391: UserWarning: `build()` was called on layer 'movie_lens_model_7', however the layer does not have a `build()` method implemented and it looks like it has unbuilt state. This will cause the layer to be marked as built, despite not being actually built, which may cause failures down the line. Make sure to implement a proper `build()` method.\n",
      "  warnings.warn(\n"
     ]
    },
    {
     "name": "stdout",
     "output_type": "stream",
     "text": [
      "\u001b[1m40/40\u001b[0m \u001b[32m━━━━━━━━━━━━━━━━━━━━\u001b[0m\u001b[37m\u001b[0m \u001b[1m4s\u001b[0m 37ms/step - loss: 13.6816 - regularization_loss: 0.0000e+00 - root_mean_squared_error: 3.7075 - total_loss: 13.6816 - val_loss: 13.7412 - val_regularization_loss: 0.0000e+00 - val_root_mean_squared_error: 3.7071 - val_total_loss: 13.7412\n",
      "Epoch 2/10\n",
      "\u001b[1m40/40\u001b[0m \u001b[32m━━━━━━━━━━━━━━━━━━━━\u001b[0m\u001b[37m\u001b[0m \u001b[1m1s\u001b[0m 7ms/step - loss: 13.7090 - regularization_loss: 0.0000e+00 - root_mean_squared_error: 3.7049 - total_loss: 13.7090 - val_loss: 13.7412 - val_regularization_loss: 0.0000e+00 - val_root_mean_squared_error: 3.7071 - val_total_loss: 13.7412\n",
      "Epoch 3/10\n",
      "\u001b[1m40/40\u001b[0m \u001b[32m━━━━━━━━━━━━━━━━━━━━\u001b[0m\u001b[37m\u001b[0m \u001b[1m1s\u001b[0m 8ms/step - loss: 13.7467 - regularization_loss: 0.0000e+00 - root_mean_squared_error: 3.7075 - total_loss: 13.7467 - val_loss: 13.7412 - val_regularization_loss: 0.0000e+00 - val_root_mean_squared_error: 3.7071 - val_total_loss: 13.7412\n",
      "Epoch 4/10\n",
      "\u001b[1m40/40\u001b[0m \u001b[32m━━━━━━━━━━━━━━━━━━━━\u001b[0m\u001b[37m\u001b[0m \u001b[1m1s\u001b[0m 8ms/step - loss: 13.7207 - regularization_loss: 0.0000e+00 - root_mean_squared_error: 3.7077 - total_loss: 13.7207 - val_loss: 13.7412 - val_regularization_loss: 0.0000e+00 - val_root_mean_squared_error: 3.7071 - val_total_loss: 13.7412\n",
      "Epoch 5/10\n",
      "\u001b[1m40/40\u001b[0m \u001b[32m━━━━━━━━━━━━━━━━━━━━\u001b[0m\u001b[37m\u001b[0m \u001b[1m1s\u001b[0m 9ms/step - loss: 13.7090 - regularization_loss: 0.0000e+00 - root_mean_squared_error: 3.7024 - total_loss: 13.7090 - val_loss: 13.7412 - val_regularization_loss: 0.0000e+00 - val_root_mean_squared_error: 3.7071 - val_total_loss: 13.7412\n",
      "Epoch 6/10\n",
      "\u001b[1m40/40\u001b[0m \u001b[32m━━━━━━━━━━━━━━━━━━━━\u001b[0m\u001b[37m\u001b[0m \u001b[1m1s\u001b[0m 10ms/step - loss: 13.7010 - regularization_loss: 0.0000e+00 - root_mean_squared_error: 3.7070 - total_loss: 13.7010 - val_loss: 13.7410 - val_regularization_loss: 0.0000e+00 - val_root_mean_squared_error: 3.7071 - val_total_loss: 13.7410\n",
      "Epoch 7/10\n",
      "\u001b[1m40/40\u001b[0m \u001b[32m━━━━━━━━━━━━━━━━━━━━\u001b[0m\u001b[37m\u001b[0m \u001b[1m2s\u001b[0m 18ms/step - loss: 13.6818 - regularization_loss: 0.0000e+00 - root_mean_squared_error: 3.7075 - total_loss: 13.6818 - val_loss: 13.7408 - val_regularization_loss: 0.0000e+00 - val_root_mean_squared_error: 3.7070 - val_total_loss: 13.7408\n",
      "Epoch 8/10\n",
      "\u001b[1m40/40\u001b[0m \u001b[32m━━━━━━━━━━━━━━━━━━━━\u001b[0m\u001b[37m\u001b[0m \u001b[1m1s\u001b[0m 8ms/step - loss: 13.6870 - regularization_loss: 0.0000e+00 - root_mean_squared_error: 3.7016 - total_loss: 13.6870 - val_loss: 13.7405 - val_regularization_loss: 0.0000e+00 - val_root_mean_squared_error: 3.7070 - val_total_loss: 13.7405\n",
      "Epoch 9/10\n",
      "\u001b[1m40/40\u001b[0m \u001b[32m━━━━━━━━━━━━━━━━━━━━\u001b[0m\u001b[37m\u001b[0m \u001b[1m1s\u001b[0m 10ms/step - loss: 13.6923 - regularization_loss: 0.0000e+00 - root_mean_squared_error: 3.7034 - total_loss: 13.6923 - val_loss: 13.7400 - val_regularization_loss: 0.0000e+00 - val_root_mean_squared_error: 3.7069 - val_total_loss: 13.7400\n",
      "Epoch 10/10\n",
      "\u001b[1m40/40\u001b[0m \u001b[32m━━━━━━━━━━━━━━━━━━━━\u001b[0m\u001b[37m\u001b[0m \u001b[1m1s\u001b[0m 8ms/step - loss: 13.7456 - regularization_loss: 0.0000e+00 - root_mean_squared_error: 3.7004 - total_loss: 13.7456 - val_loss: 13.7392 - val_regularization_loss: 0.0000e+00 - val_root_mean_squared_error: 3.7068 - val_total_loss: 13.7392\n",
      "RMSE: 3.71.\n"
     ]
    }
   ],
   "source": [
    "# Create a retrieval model.\n",
    "model = MovieLensModel(DotRankingModel())\n",
    "model.compile(optimizer=tf.keras.optimizers.Adagrad(learning_rate=0.1))\n",
    "\n",
    "# Train and test\n",
    "dot_model_history = model.fit(\n",
    "    cached_train,\n",
    "    validation_data=cached_test,\n",
    "    validation_freq=1,\n",
    "    epochs=10,\n",
    "    verbose=1)\n",
    "\n",
    "test_accuracy = dot_model_history.history[\"val_root_mean_squared_error\"][-1]\n",
    "print(f\"RMSE: {test_accuracy:.2f}.\")"
   ]
  },
  {
   "cell_type": "code",
   "execution_count": 54,
   "metadata": {
    "id": "caiEkjUGfGVd"
   },
   "outputs": [
    {
     "data": {
      "text/plain": [
       "<matplotlib.legend.Legend at 0x14e6fca0dc0>"
      ]
     },
     "execution_count": 54,
     "metadata": {},
     "output_type": "execute_result"
    },
    {
     "data": {
      "image/png": "[encoded data removed]",
      "text/plain": [
       "<Figure size 640x480 with 1 Axes>"
      ]
     },
     "metadata": {},
     "output_type": "display_data"
    }
   ],
   "source": [
    "plt.plot(dot_model_history.history[\"val_root_mean_squared_error\"], label=\"basic\")\n",
    "plt.title(\"Accuracy vs epoch\")\n",
    "plt.xlabel(\"epoch\")\n",
    "plt.ylabel(\"RMSE\");\n",
    "plt.legend()"
   ]
  },
  {
   "cell_type": "markdown",
   "metadata": {
    "id": "Y8_8re05-taq"
   },
   "source": [
    "> ### TODO\n",
    ">\n",
    "> Comment the curve\n",
    "\n",
    "# 📊 Analyse du Graphique RMSE vs Epochs\n",
    "\n",
    "## 📌 Observations\n",
    "\n",
    "- **Époques 0-3** : Le RMSE stagne légèrement, suggérant que le modèle peine à apprendre au début.\n",
    "- **Époques 4-9** : Le RMSE diminue progressivement, indiquant une meilleure adaptation du modèle aux données.\n",
    "- **Tendance générale** : L'erreur baisse continuellement, mais une vérification de l'overfitting est nécessaire.\n",
    "\n",
    "## 🔎 Interprétation\n",
    "\n",
    "- Une diminution du RMSE est positive, mais ne garantit pas des recommandations pertinentes.\n",
    "- Compléter cette analyse avec des métriques comme **NDCG, MAP ou HR@K** est essentiel.\n",
    "- Si le RMSE continue de baisser fortement, un risque de sur-apprentissage doit être surveillé.\n",
    "\n",
    "\n",
    "## 🏁 Conclusion\n",
    "\n",
    "Le modèle apprend progressivement mais pourrait être optimisé pour de meilleures recommandations. Une analyse plus poussée avec des métriques adaptées est nécessaire avant de valider la performance.\n"
   ]
  },
  {
   "cell_type": "markdown",
   "metadata": {},
   "source": [
    "> ### TODO\n",
    "> Can you make the model more accurate? How?\n",
    "\n",
    "## Optimisation du Modèle de Recommandation\n",
    "\n",
    "Voici trois méthodes pour améliorer la précision du modèle de recommandation :\n",
    "\n",
    "### 1. **Ajustement des Hyperparamètres**\n",
    "   - **Taux d'apprentissage** : Tester différents taux d'apprentissage pour trouver la valeur qui permet une convergence rapide tout en évitant la divergence. Des valeurs typiques à explorer sont 0.01, 0.001, ou 0.0001.\n",
    "   - **Optimiseur** : Remplacer l'optimiseur utilisé (par exemple **Adagrad**) par d'autres plus robustes comme **Adam** ou **RMSprop**, qui sont souvent plus performants pour la convergence, surtout dans des tâches complexes comme la recommandation.\n",
    "\n",
    "### 2. **Ajout de Métadonnées sur les Films et Utilisateurs**\n",
    "   - **Métadonnées sur les Films** : Ajouter des informations supplémentaires sur les films, comme leur genre, année de production, acteurs principaux, ou durée. Ces données peuvent enrichir la compréhension du modèle sur les films et améliorer les recommandations.\n",
    "   - **Métadonnées sur les Utilisateurs** : Ajouter des informations utilisateur comme l'âge, les préférences de visionnage ou l'historique des interactions. Ces métadonnées permettent de mieux personnaliser les recommandations en fonction des caractéristiques spécifiques de chaque utilisateur.\n",
    "\n",
    "### 3. **Évaluation Top-K**\n",
    "   - **Top-K Evaluation** : Au lieu de se concentrer uniquement sur la précision globale, utiliser des métriques comme la **précision top-K** ou le **rappel top-K** pour évaluer la pertinence des recommandations parmi les K premiers articles proposés. Cela permet de mieux comprendre si les premières recommandations sont réellement utiles pour les utilisateurs.\n",
    "\n",
    "Ces trois méthodes permettent d'améliorer la précision des recommandations en affinant les paramètres du modèle, en ajoutant plus de contexte grâce aux métadonnées, et en utilisant des métriques d'évaluation adaptées pour mesurer la qualité des recommandations les plus pertinentes.\n"
   ]
  },
  {
   "cell_type": "markdown",
   "metadata": {
    "id": "GFyPZmqQl4Du"
   },
   "source": [
    "# More complex link between user's and item's representations\n",
    "\n",
    "Let replace the dot product between user's and item's representations by a fully connected layer of size 64, followed by a fully connected layer with a unique output.\n",
    "\n",
    "> ### TODO\n",
    ">\n",
    "> - Define the layer and adapt the `call` method\n",
    "> - Choose carefully the activation functions of the layers\n",
    ">\n",
    "> Useful: `tf.keras.Sequential`, `tf.keras.Dense`, `tf.concat`\n",
    "> \n",
    "> You can alo checkout the Tensorflow/Keras tutorial here https://www.tensorflow.org/guide/keras/sequential_model"
   ]
  },
  {
   "cell_type": "code",
   "execution_count": 58,
   "metadata": {
    "id": "65LzTZe8mYbs"
   },
   "outputs": [],
   "source": [
    "class OneLayerRankingModel(tf.keras.Model):\n",
    "    \n",
    "  def __init__(self):\n",
    "    super().__init__()\n",
    "    embedding_dimension = 32\n",
    "\n",
    "    # Compute embeddings for users.\n",
    "    self.user_embeddings = tf.keras.Sequential([\n",
    "      tf.keras.layers.StringLookup(\n",
    "        vocabulary=unique_user_ids, mask_token=None),\n",
    "      tf.keras.layers.Embedding(len(unique_user_ids) + 1, embedding_dimension)\n",
    "    ])\n",
    "\n",
    "    # Compute embeddings for movies.\n",
    "    self.movie_embeddings = tf.keras.Sequential([\n",
    "      tf.keras.layers.StringLookup(\n",
    "        vocabulary=unique_movie_titles, mask_token=None),\n",
    "      tf.keras.layers.Embedding(len(unique_movie_titles) + 1, embedding_dimension)\n",
    "    ])\n",
    "\n",
    "    # More complex link between user's and item's representations\n",
    "    # Define a fully connected layer of size 64, followed by a unique output\n",
    "    self.dense_1 = tf.keras.layers.Dense(64, activation='relu')  # First dense layer with 64 units and ReLU activation\n",
    "    self.dense_2 = tf.keras.layers.Dense(1)  # Output layer with a single unit (no activation)\n",
    "\n",
    "  def call(self, features: Dict[str, tf.Tensor]) -> tf.Tensor:\n",
    "    # Get embeddings for users and movies\n",
    "    user_embedding = self.user_embeddings(features[\"user_id\"])\n",
    "    movie_embedding = self.movie_embeddings(features[\"movie_title\"])\n",
    "\n",
    "    # Concatenate the user and movie embeddings to create a combined representation\n",
    "    combined_representation = tf.concat([user_embedding, movie_embedding], axis=1)\n",
    "\n",
    "    # Pass the combined representation through the dense layers\n",
    "    x = self.dense_1(combined_representation)  # First dense layer\n",
    "    prediction = self.dense_2(x)  # Second dense layer to get the prediction\n",
    "\n",
    "    return prediction"
   ]
  },
  {
   "cell_type": "code",
   "execution_count": 59,
   "metadata": {},
   "outputs": [
    {
     "name": "stdout",
     "output_type": "stream",
     "text": [
      "tf.Tensor([[-0.00314073]], shape=(1, 1), dtype=float32)\n"
     ]
    }
   ],
   "source": [
    "import tensorflow as tf\n",
    "\n",
    "# Exemple de données\n",
    "user_ids = [\"42\"]\n",
    "movie_titles = [\"One Flew Over the Cuckoo's Nest (1975)\"]\n",
    "\n",
    "# Convertir les données en tenseurs\n",
    "inputs = {\n",
    "    \"user_id\": tf.convert_to_tensor(user_ids, dtype=tf.string),\n",
    "    \"movie_title\": tf.convert_to_tensor(movie_titles, dtype=tf.string)\n",
    "}\n",
    "\n",
    "# Instancier et appeler le modèle\n",
    "model = OneLayerRankingModel()\n",
    "prediction = model(inputs)\n",
    "\n",
    "print(prediction)\n"
   ]
  },
  {
   "cell_type": "code",
   "execution_count": null,
   "metadata": {
    "id": "nAx8po39mYj-"
   },
   "outputs": [],
   "source": [
    " # OneLayerRankingModel()({\"user_id\": [\"42\"], \"movie_title\":[\"One Flew Over the Cuckoo's Nest (1975)\"]})"
   ]
  },
  {
   "cell_type": "code",
   "execution_count": 61,
   "metadata": {
    "id": "MomtyxVvmY0k"
   },
   "outputs": [
    {
     "name": "stdout",
     "output_type": "stream",
     "text": [
      "Epoch 1/10\n"
     ]
    },
    {
     "name": "stderr",
     "output_type": "stream",
     "text": [
      "c:\\Users\\LENOVO PC\\AppData\\Local\\Programs\\Python\\Python310\\lib\\site-packages\\keras\\src\\layers\\layer.py:391: UserWarning: `build()` was called on layer 'movie_lens_model_8', however the layer does not have a `build()` method implemented and it looks like it has unbuilt state. This will cause the layer to be marked as built, despite not being actually built, which may cause failures down the line. Make sure to implement a proper `build()` method.\n",
      "  warnings.warn(\n"
     ]
    },
    {
     "name": "stdout",
     "output_type": "stream",
     "text": [
      "\u001b[1m40/40\u001b[0m \u001b[32m━━━━━━━━━━━━━━━━━━━━\u001b[0m\u001b[37m\u001b[0m \u001b[1m4s\u001b[0m 13ms/step - loss: 1.8558 - regularization_loss: 0.0000e+00 - root_mean_squared_error: 1.8130 - total_loss: 1.8558 - val_loss: 1.1427 - val_regularization_loss: 0.0000e+00 - val_root_mean_squared_error: 1.0794 - val_total_loss: 1.1427\n",
      "Epoch 2/10\n",
      "\u001b[1m40/40\u001b[0m \u001b[32m━━━━━━━━━━━━━━━━━━━━\u001b[0m\u001b[37m\u001b[0m \u001b[1m1s\u001b[0m 8ms/step - loss: 1.0676 - regularization_loss: 0.0000e+00 - root_mean_squared_error: 1.0571 - total_loss: 1.0676 - val_loss: 0.9904 - val_regularization_loss: 0.0000e+00 - val_root_mean_squared_error: 1.0014 - val_total_loss: 0.9904\n",
      "Epoch 3/10\n",
      "\u001b[1m40/40\u001b[0m \u001b[32m━━━━━━━━━━━━━━━━━━━━\u001b[0m\u001b[37m\u001b[0m \u001b[1m1s\u001b[0m 8ms/step - loss: 0.9548 - regularization_loss: 0.0000e+00 - root_mean_squared_error: 0.9829 - total_loss: 0.9548 - val_loss: 0.9405 - val_regularization_loss: 0.0000e+00 - val_root_mean_squared_error: 0.9756 - val_total_loss: 0.9405\n",
      "Epoch 4/10\n",
      "\u001b[1m40/40\u001b[0m \u001b[32m━━━━━━━━━━━━━━━━━━━━\u001b[0m\u001b[37m\u001b[0m \u001b[1m1s\u001b[0m 8ms/step - loss: 0.9049 - regularization_loss: 0.0000e+00 - root_mean_squared_error: 0.9570 - total_loss: 0.9049 - val_loss: 0.9276 - val_regularization_loss: 0.0000e+00 - val_root_mean_squared_error: 0.9665 - val_total_loss: 0.9276\n",
      "Epoch 5/10\n",
      "\u001b[1m40/40\u001b[0m \u001b[32m━━━━━━━━━━━━━━━━━━━━\u001b[0m\u001b[37m\u001b[0m \u001b[1m1s\u001b[0m 8ms/step - loss: 0.8901 - regularization_loss: 0.0000e+00 - root_mean_squared_error: 0.9417 - total_loss: 0.8901 - val_loss: 0.9436 - val_regularization_loss: 0.0000e+00 - val_root_mean_squared_error: 0.9752 - val_total_loss: 0.9436\n",
      "Epoch 6/10\n",
      "\u001b[1m40/40\u001b[0m \u001b[32m━━━━━━━━━━━━━━━━━━━━\u001b[0m\u001b[37m\u001b[0m \u001b[1m1s\u001b[0m 7ms/step - loss: 0.8789 - regularization_loss: 0.0000e+00 - root_mean_squared_error: 0.9375 - total_loss: 0.8789 - val_loss: 0.8976 - val_regularization_loss: 0.0000e+00 - val_root_mean_squared_error: 0.9465 - val_total_loss: 0.8976\n",
      "Epoch 7/10\n",
      "\u001b[1m40/40\u001b[0m \u001b[32m━━━━━━━━━━━━━━━━━━━━\u001b[0m\u001b[37m\u001b[0m \u001b[1m1s\u001b[0m 7ms/step - loss: 0.8721 - regularization_loss: 0.0000e+00 - root_mean_squared_error: 0.9310 - total_loss: 0.8721 - val_loss: 0.9038 - val_regularization_loss: 0.0000e+00 - val_root_mean_squared_error: 0.9507 - val_total_loss: 0.9038\n",
      "Epoch 8/10\n",
      "\u001b[1m40/40\u001b[0m \u001b[32m━━━━━━━━━━━━━━━━━━━━\u001b[0m\u001b[37m\u001b[0m \u001b[1m1s\u001b[0m 9ms/step - loss: 0.8651 - regularization_loss: 0.0000e+00 - root_mean_squared_error: 0.9312 - total_loss: 0.8651 - val_loss: 0.9093 - val_regularization_loss: 0.0000e+00 - val_root_mean_squared_error: 0.9519 - val_total_loss: 0.9093\n",
      "Epoch 9/10\n",
      "\u001b[1m40/40\u001b[0m \u001b[32m━━━━━━━━━━━━━━━━━━━━\u001b[0m\u001b[37m\u001b[0m \u001b[1m1s\u001b[0m 7ms/step - loss: 0.8615 - regularization_loss: 0.0000e+00 - root_mean_squared_error: 0.9253 - total_loss: 0.8615 - val_loss: 0.9041 - val_regularization_loss: 0.0000e+00 - val_root_mean_squared_error: 0.9483 - val_total_loss: 0.9041\n",
      "Epoch 10/10\n",
      "\u001b[1m40/40\u001b[0m \u001b[32m━━━━━━━━━━━━━━━━━━━━\u001b[0m\u001b[37m\u001b[0m \u001b[1m1s\u001b[0m 7ms/step - loss: 0.8576 - regularization_loss: 0.0000e+00 - root_mean_squared_error: 0.9267 - total_loss: 0.8576 - val_loss: 0.8936 - val_regularization_loss: 0.0000e+00 - val_root_mean_squared_error: 0.9432 - val_total_loss: 0.8936\n",
      "RMSE: 0.94.\n"
     ]
    }
   ],
   "source": [
    "# Create a retrieval model.\n",
    "model = MovieLensModel(OneLayerRankingModel())\n",
    "model.compile(optimizer=tf.keras.optimizers.Adagrad(learning_rate=0.1))\n",
    "\n",
    "# Train and test\n",
    "one_layer_model_history = model.fit(\n",
    "    cached_train,\n",
    "    validation_data=cached_test,\n",
    "    validation_freq=1,\n",
    "    epochs=10,\n",
    "    verbose=1)\n",
    "\n",
    "test_accuracy = one_layer_model_history.history[\"val_root_mean_squared_error\"][-1]\n",
    "print(f\"RMSE: {test_accuracy:.2f}.\")"
   ]
  },
  {
   "cell_type": "code",
   "execution_count": 62,
   "metadata": {
    "id": "KCLZjF9Nok4S"
   },
   "outputs": [
    {
     "data": {
      "text/plain": [
       "<matplotlib.legend.Legend at 0x14e6ea5b610>"
      ]
     },
     "execution_count": 62,
     "metadata": {},
     "output_type": "execute_result"
    },
    {
     "data": {
      "image/png": "[encoded data removed]",
      "text/plain": [
       "<Figure size 640x480 with 1 Axes>"
      ]
     },
     "metadata": {},
     "output_type": "display_data"
    }
   ],
   "source": [
    "plt.plot(dot_model_history.history[\"val_root_mean_squared_error\"], label=\"basic\")\n",
    "plt.plot(one_layer_model_history.history[\"val_root_mean_squared_error\"], label=\"one layer\")\n",
    "plt.title(\"Accuracy vs epoch\")\n",
    "plt.xlabel(\"epoch\")\n",
    "plt.ylabel(\"RMSE\");\n",
    "plt.legend()"
   ]
  },
  {
   "cell_type": "markdown",
   "metadata": {
    "id": "ooZ4g25P0YSs"
   },
   "source": [
    "# Taking advantage of context features\n",
    "\n",
    "Let use timestamps of the ratings and movie titles to enrich the input of the model.\n",
    "\n",
    "Some preliminary:"
   ]
  },
  {
   "cell_type": "code",
   "execution_count": 64,
   "metadata": {
    "id": "lSeZJBJI4rUl"
   },
   "outputs": [],
   "source": [
    "timestamps = np.concatenate(list(ratings_full.map(lambda x: x[\"timestamp\"]).batch(100)))\n",
    "\n",
    "max_timestamp = timestamps.max()\n",
    "min_timestamp = timestamps.min()\n",
    "\n",
    "timestamp_buckets = np.linspace(\n",
    "    min_timestamp, max_timestamp, num=1000,\n",
    ")"
   ]
  },
  {
   "cell_type": "markdown",
   "metadata": {
    "id": "1Xe9ghj84-ri"
   },
   "source": [
    "New user model.\n",
    "\n",
    "> ### TODO\n",
    ">\n",
    "> Draw and explain the role played by the components of the model\n",
    "\n",
    "\n",
    "\n",
    "### Composants du Modèle et Leur Rôle\n",
    "\n",
    "#### 1.1 **Embeddings des Utilisateurs**\n",
    "- **Description :** Ce sont des vecteurs (représentations numériques) qui capturent les préférences d'un utilisateur dans un espace de caractéristiques.\n",
    "- **Rôle :** Ils permettent de représenter un utilisateur de manière compacte. Lorsqu'un utilisateur interagit avec le système (par exemple, en évaluant des films), son embedding est mis à jour pour mieux correspondre à ses goûts.\n",
    "\n",
    "#### 1.2 **Embeddings des Films (Items)**\n",
    "- **Description :** Ce sont aussi des vecteurs qui représentent les films ou articles dans un espace de caractéristiques.\n",
    "- **Rôle :** Ces embeddings capturent les caractéristiques d'un film, comme le genre, la popularité ou les attributs qui influencent les choix des utilisateurs. L’objectif est de donner une représentation numérique de chaque film.\n",
    "\n",
    "#### 1.3 **Couche de Prédiction (Produit Scalaire ou MLP)**\n",
    "- **Description :** Il s'agit de la partie du modèle qui calcule la prédiction. Soit un produit scalaire entre les embeddings de l'utilisateur et du film, soit une couche entièrement connectée (MLP) qui apprend une relation non linéaire entre les deux embeddings.\n",
    "- **Rôle :** Cela permet de prédire la note qu'un utilisateur donnerait à un film en fonction de ses préférences et des caractéristiques du film. Le produit scalaire est une estimation simple, tandis que l'MLP peut capturer des interactions plus complexes.\n",
    "\n",
    "#### 1.4 **Mécanisme pour les Utilisateurs Nouveaux (Cold Start)**\n",
    "- **Description :** Les utilisateurs qui n'ont pas encore d'historique d'interaction avec le système. Pour ces utilisateurs, des embeddings par défaut ou des informations supplémentaires comme des métadonnées (âge, sexe) peuvent être utilisées pour générer des prédictions.\n",
    "- **Rôle :** Permet de traiter les utilisateurs froids (sans historique) et de faire des recommandations pertinentes dès le début. Les embeddings de ces utilisateurs sont ajustés au fur et à mesure qu'ils interagissent avec le système.\n",
    "\n",
    "---\n",
    "\n",
    "### Schéma du Modèle\n",
    "\n",
    "Voici un schéma simple pour visualiser le modèle :\n",
    "\n",
    "```plaintext\n",
    "[Input: user_id]  --->  [User Embedding] ---\\\n",
    "                                          \\\n",
    "[Input: movie_title] ---> [Movie Embedding] --> [Prediction Layer] --> [Predicted Rating]\n",
    "\n"
   ]
  },
  {
   "cell_type": "code",
   "execution_count": 65,
   "metadata": {
    "id": "PLcCzx-SzSBl"
   },
   "outputs": [],
   "source": [
    "class EnrichedRankingModel(tf.keras.Model):\n",
    "\n",
    "  def __init__(self):\n",
    "    super().__init__()\n",
    "    embedding_dimension = 32\n",
    "\n",
    "    # Building blocks to compute embeddings for users.\n",
    "    self.user_embeddings = tf.keras.Sequential([\n",
    "      tf.keras.layers.StringLookup(\n",
    "        vocabulary=unique_user_ids, mask_token=None),\n",
    "      tf.keras.layers.Embedding(len(unique_user_ids) + 1, embedding_dimension)\n",
    "    ])\n",
    "\n",
    "    self.timestamp_embeddings = tf.keras.Sequential([\n",
    "        tf.keras.layers.Discretization(timestamp_buckets.tolist()),\n",
    "        tf.keras.layers.Embedding(len(timestamp_buckets) + 1, embedding_dimension),\n",
    "    ])\n",
    "\n",
    "    self.normalized_timestamp = tf.keras.layers.Normalization(\n",
    "        axis=None\n",
    "    )\n",
    "    self.normalized_timestamp.adapt(timestamps)\n",
    "\n",
    "    # Building blocks to compute embeddings for movies.\n",
    "    max_tokens = 10_000\n",
    "\n",
    "    self.movie_embeddings = tf.keras.Sequential([\n",
    "      tf.keras.layers.StringLookup(\n",
    "        vocabulary=unique_movie_titles, mask_token=None),\n",
    "      tf.keras.layers.Embedding(len(unique_movie_titles) + 1, embedding_dimension)\n",
    "    ])\n",
    "\n",
    "    self.title_vectorizer = tf.keras.layers.TextVectorization(\n",
    "      max_tokens=max_tokens)\n",
    "\n",
    "    self.title_text_embeddings = tf.keras.Sequential([\n",
    "      self.title_vectorizer,\n",
    "      tf.keras.layers.Embedding(max_tokens, embedding_dimension, mask_zero=True),\n",
    "      tf.keras.layers.GlobalAveragePooling1D(),\n",
    "    ])\n",
    "\n",
    "    self.title_vectorizer.adapt(unique_movie_titles)\n",
    "\n",
    "\n",
    "\n",
    "    # Compute predictions.\n",
    "    self.ratings = tf.keras.Sequential([\n",
    "      # Learn multiple dense layers.\n",
    "      tf.keras.layers.Dense(64, activation=\"relu\"),\n",
    "      # Make rating predictions in the final layer.\n",
    "      tf.keras.layers.Dense(1)\n",
    "    ])\n",
    "\n",
    "  def call(self, features: Dict[str, tf.Tensor]) -> tf.Tensor:\n",
    "    user_embedding = tf.concat([\n",
    "        self.user_embeddings(features[\"user_id\"]),\n",
    "        self.timestamp_embeddings(features[\"timestamp\"]),\n",
    "        tf.reshape(self.normalized_timestamp(features[\"timestamp\"]), (-1, 1)),\n",
    "    ], axis=1)\n",
    "\n",
    "    movie_embedding = tf.concat([\n",
    "        self.movie_embeddings(features[\"movie_title\"]),\n",
    "        self.title_text_embeddings(features[\"movie_title\"]),\n",
    "    ], axis=1)\n",
    "\n",
    "    return self.ratings(tf.concat([user_embedding, movie_embedding], axis=1))"
   ]
  },
  {
   "cell_type": "code",
   "execution_count": 67,
   "metadata": {},
   "outputs": [
    {
     "name": "stdout",
     "output_type": "stream",
     "text": [
      "tf.Tensor([[0.05344875]], shape=(1, 1), dtype=float32)\n"
     ]
    }
   ],
   "source": [
    "import tensorflow as tf\n",
    "\n",
    "# Données d'entrée\n",
    "features = {\n",
    "    \"user_id\": tf.convert_to_tensor([\"42\"]),  # Convertir l'ID de l'utilisateur en un tensor\n",
    "    \"movie_title\": tf.convert_to_tensor([\"One Flew Over the Cuckoo's Nest (1975)\"]),  # Convertir le titre du film en tensor\n",
    "    \"timestamp\": tf.convert_to_tensor([879024327]),  # Convertir le timestamp en tensor\n",
    "}\n",
    "\n",
    "# Créer et appeler le modèle\n",
    "model = EnrichedRankingModel()\n",
    "predictions = model(features)\n",
    "\n",
    "# Afficher les résultats\n",
    "print(predictions)\n"
   ]
  },
  {
   "cell_type": "code",
   "execution_count": 68,
   "metadata": {
    "id": "NPrbGZZ22bzX"
   },
   "outputs": [
    {
     "name": "stdout",
     "output_type": "stream",
     "text": [
      "Epoch 1/10\n"
     ]
    },
    {
     "name": "stderr",
     "output_type": "stream",
     "text": [
      "c:\\Users\\LENOVO PC\\AppData\\Local\\Programs\\Python\\Python310\\lib\\site-packages\\keras\\src\\layers\\layer.py:391: UserWarning: `build()` was called on layer 'movie_lens_model_9', however the layer does not have a `build()` method implemented and it looks like it has unbuilt state. This will cause the layer to be marked as built, despite not being actually built, which may cause failures down the line. Make sure to implement a proper `build()` method.\n",
      "  warnings.warn(\n"
     ]
    },
    {
     "name": "stdout",
     "output_type": "stream",
     "text": [
      "\u001b[1m40/40\u001b[0m \u001b[32m━━━━━━━━━━━━━━━━━━━━\u001b[0m\u001b[37m\u001b[0m \u001b[1m5s\u001b[0m 31ms/step - loss: 1.8288 - regularization_loss: 0.0000e+00 - root_mean_squared_error: 1.7852 - total_loss: 1.8288 - val_loss: 1.1786 - val_regularization_loss: 0.0000e+00 - val_root_mean_squared_error: 1.0946 - val_total_loss: 1.1786\n",
      "Epoch 2/10\n",
      "\u001b[1m40/40\u001b[0m \u001b[32m━━━━━━━━━━━━━━━━━━━━\u001b[0m\u001b[37m\u001b[0m \u001b[1m2s\u001b[0m 22ms/step - loss: 1.0994 - regularization_loss: 0.0000e+00 - root_mean_squared_error: 1.0635 - total_loss: 1.0994 - val_loss: 1.0399 - val_regularization_loss: 0.0000e+00 - val_root_mean_squared_error: 1.0245 - val_total_loss: 1.0399\n",
      "Epoch 3/10\n",
      "\u001b[1m40/40\u001b[0m \u001b[32m━━━━━━━━━━━━━━━━━━━━\u001b[0m\u001b[37m\u001b[0m \u001b[1m2s\u001b[0m 21ms/step - loss: 0.9727 - regularization_loss: 0.0000e+00 - root_mean_squared_error: 0.9976 - total_loss: 0.9727 - val_loss: 0.9570 - val_regularization_loss: 0.0000e+00 - val_root_mean_squared_error: 0.9808 - val_total_loss: 0.9570\n",
      "Epoch 4/10\n",
      "\u001b[1m40/40\u001b[0m \u001b[32m━━━━━━━━━━━━━━━━━━━━\u001b[0m\u001b[37m\u001b[0m \u001b[1m2s\u001b[0m 24ms/step - loss: 0.9142 - regularization_loss: 0.0000e+00 - root_mean_squared_error: 0.9680 - total_loss: 0.9142 - val_loss: 0.9582 - val_regularization_loss: 0.0000e+00 - val_root_mean_squared_error: 0.9824 - val_total_loss: 0.9582\n",
      "Epoch 5/10\n",
      "\u001b[1m40/40\u001b[0m \u001b[32m━━━━━━━━━━━━━━━━━━━━\u001b[0m\u001b[37m\u001b[0m \u001b[1m2s\u001b[0m 21ms/step - loss: 0.8958 - regularization_loss: 0.0000e+00 - root_mean_squared_error: 0.9466 - total_loss: 0.8958 - val_loss: 0.9291 - val_regularization_loss: 0.0000e+00 - val_root_mean_squared_error: 0.9650 - val_total_loss: 0.9291\n",
      "Epoch 6/10\n",
      "\u001b[1m40/40\u001b[0m \u001b[32m━━━━━━━━━━━━━━━━━━━━\u001b[0m\u001b[37m\u001b[0m \u001b[1m2s\u001b[0m 23ms/step - loss: 0.8792 - regularization_loss: 0.0000e+00 - root_mean_squared_error: 0.9365 - total_loss: 0.8792 - val_loss: 0.9765 - val_regularization_loss: 0.0000e+00 - val_root_mean_squared_error: 0.9900 - val_total_loss: 0.9765\n",
      "Epoch 7/10\n",
      "\u001b[1m40/40\u001b[0m \u001b[32m━━━━━━━━━━━━━━━━━━━━\u001b[0m\u001b[37m\u001b[0m \u001b[1m2s\u001b[0m 23ms/step - loss: 0.8584 - regularization_loss: 0.0000e+00 - root_mean_squared_error: 0.9321 - total_loss: 0.8584 - val_loss: 0.8909 - val_regularization_loss: 0.0000e+00 - val_root_mean_squared_error: 0.9440 - val_total_loss: 0.8909\n",
      "Epoch 8/10\n",
      "\u001b[1m40/40\u001b[0m \u001b[32m━━━━━━━━━━━━━━━━━━━━\u001b[0m\u001b[37m\u001b[0m \u001b[1m2s\u001b[0m 22ms/step - loss: 0.8568 - regularization_loss: 0.0000e+00 - root_mean_squared_error: 0.9253 - total_loss: 0.8568 - val_loss: 0.9362 - val_regularization_loss: 0.0000e+00 - val_root_mean_squared_error: 0.9687 - val_total_loss: 0.9362\n",
      "Epoch 9/10\n",
      "\u001b[1m40/40\u001b[0m \u001b[32m━━━━━━━━━━━━━━━━━━━━\u001b[0m\u001b[37m\u001b[0m \u001b[1m2s\u001b[0m 23ms/step - loss: 0.8508 - regularization_loss: 0.0000e+00 - root_mean_squared_error: 0.9280 - total_loss: 0.8508 - val_loss: 0.8867 - val_regularization_loss: 0.0000e+00 - val_root_mean_squared_error: 0.9400 - val_total_loss: 0.8867\n",
      "Epoch 10/10\n",
      "\u001b[1m40/40\u001b[0m \u001b[32m━━━━━━━━━━━━━━━━━━━━\u001b[0m\u001b[37m\u001b[0m \u001b[1m2s\u001b[0m 23ms/step - loss: 0.8575 - regularization_loss: 0.0000e+00 - root_mean_squared_error: 0.9204 - total_loss: 0.8575 - val_loss: 0.9009 - val_regularization_loss: 0.0000e+00 - val_root_mean_squared_error: 0.9489 - val_total_loss: 0.9009\n",
      "RMSE: 0.95.\n"
     ]
    }
   ],
   "source": [
    "# Create a retrieval model.\n",
    "model = MovieLensModel(EnrichedRankingModel())\n",
    "model.compile(optimizer=tf.keras.optimizers.Adagrad(learning_rate=0.1))\n",
    "\n",
    "# Train and test\n",
    "enriched_model_history = model.fit(\n",
    "    cached_train,\n",
    "    validation_data=cached_test,\n",
    "    validation_freq=1,\n",
    "    epochs=10,\n",
    "    verbose=1)\n",
    "\n",
    "test_accuracy = enriched_model_history.history[\"val_root_mean_squared_error\"][-1]\n",
    "print(f\"RMSE: {test_accuracy:.2f}.\")"
   ]
  },
  {
   "cell_type": "code",
   "execution_count": 69,
   "metadata": {
    "id": "KqpESO5v2bzY"
   },
   "outputs": [
    {
     "data": {
      "text/plain": [
       "<matplotlib.legend.Legend at 0x14e6e05d330>"
      ]
     },
     "execution_count": 69,
     "metadata": {},
     "output_type": "execute_result"
    },
    {
     "data": {
      "image/png": "[encoded data removed]",
      "text/plain": [
       "<Figure size 640x480 with 1 Axes>"
      ]
     },
     "metadata": {},
     "output_type": "display_data"
    }
   ],
   "source": [
    "plt.plot(dot_model_history.history[\"val_root_mean_squared_error\"], label=\"basic\")\n",
    "plt.plot(one_layer_model_history.history[\"val_root_mean_squared_error\"], label=\"one layer\")\n",
    "plt.plot(enriched_model_history.history[\"val_root_mean_squared_error\"], label=\"enriched\")\n",
    "plt.title(\"Accuracy vs epoch\")\n",
    "plt.xlabel(\"epoch\")\n",
    "plt.ylabel(\"RMSE\");\n",
    "plt.legend()"
   ]
  },
  {
   "cell_type": "markdown",
   "metadata": {
    "id": "9mdYyJSs7QPY"
   },
   "source": [
    "# More comple models\n",
    "\n",
    "\n",
    "\n",
    "> ### TODO\n",
    ">\n",
    "> Build and test more complex models:\n",
    "> - with more layers to link user's and item's representation\n",
    "> - integrating more contextual information: user's age, movie's genre, ...\n",
    "\n"
   ]
  },
  {
   "cell_type": "markdown",
   "metadata": {
    "id": "oyVMhMsnRcN0"
   },
   "source": [
    "# Copyright\n",
    "\n",
    "Several section of this notebook originate from notebooks under the following copyright:\n",
    "\n",
    "##### Copyright 2020 The TensorFlow Authors."
   ]
  },
  {
   "cell_type": "code",
   "execution_count": null,
   "metadata": {
    "id": "DfR1i3oKRcOD"
   },
   "outputs": [],
   "source": [
    "#@title Licensed under the Apache License, Version 2.0 (the \"License\");\n",
    "# you may not use this file except in compliance with the License.\n",
    "# You may obtain a copy of the License at\n",
    "#\n",
    "# https://www.apache.org/licenses/LICENSE-2.0\n",
    "#\n",
    "# Unless required by applicable law or agreed to in writing, software\n",
    "# distributed under the License is distributed on an \"AS IS\" BASIS,\n",
    "# WITHOUT WARRANTIES OR CONDITIONS OF ANY KIND, either express or implied.\n",
    "# See the License for the specific language governing permissions and\n",
    "# limitations under the License."
   ]
  }
 ],
 "metadata": {
  "accelerator": "GPU",
  "colab": {
   "gpuType": "T4",
   "include_colab_link": true,
   "private_outputs": true,
   "provenance": []
  },
  "kernelspec": {
   "display_name": "Python 3",
   "language": "python",
   "name": "python3"
  },
  "language_info": {
   "codemirror_mode": {
    "name": "ipython",
    "version": 3
   },
   "file_extension": ".py",
   "mimetype": "text/x-python",
   "name": "python",
   "nbconvert_exporter": "python",
   "pygments_lexer": "ipython3",
   "version": "3.10.0"
  }
 },
 "nbformat": 4,
 "nbformat_minor": 4
}
